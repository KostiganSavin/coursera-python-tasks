{
 "cells": [
  {
   "cell_type": "code",
   "execution_count": 19,
   "metadata": {},
   "outputs": [],
   "source": [
    "class File:\n",
    "    \"\"\"Класс реализующий интерфейс для работы с файлами\"\"\"\n",
    "\n",
    "    def __init__(self, full_file_path):\n",
    "        self.path = full_file_path\n",
    "\n",
    "    def write(self, str_to_write):\n",
    "        with open(self.path, \"w\") as f:\n",
    "            f.write(str_to_write)\n",
    "\n",
    "    def __add__(self, obj):\n",
    "        new_obj = File(\"new_file.txt\")\n",
    "        \n",
    "        with open(self.path) as first:\n",
    "            first_file = first.read()\n",
    "        with open(obj.path) as second:\n",
    "            second_file = second.read()\n",
    "        new_obj.write(first_file + second_file)\n",
    "        return new_obj \n",
    "\n",
    "    def __iter__(self):\n",
    "        return self\n",
    "\n",
    "    def __next__(self):\n",
    "        with open(self.path) as f:\n",
    "            yield f.readline()\n",
    "\n",
    "    def __str__(self):\n",
    "        return f\"{self.path}\""
   ]
  },
  {
   "cell_type": "code",
   "execution_count": 20,
   "metadata": {},
   "outputs": [],
   "source": [
    "obj = File(\"text.txt\")"
   ]
  },
  {
   "cell_type": "code",
   "execution_count": 21,
   "metadata": {},
   "outputs": [
    {
     "name": "stdout",
     "output_type": "stream",
     "text": [
      "text.txt\n"
     ]
    }
   ],
   "source": [
    "print(obj)"
   ]
  },
  {
   "cell_type": "code",
   "execution_count": 28,
   "metadata": {},
   "outputs": [
    {
     "data": {
      "text/plain": [
       "'Line2\\n'"
      ]
     },
     "execution_count": 28,
     "metadata": {},
     "output_type": "execute_result"
    }
   ],
   "source": [
    "next(obj)"
   ]
  },
  {
   "cell_type": "code",
   "execution_count": 18,
   "metadata": {},
   "outputs": [],
   "source": [
    "obj.write('Line2\\n')"
   ]
  },
  {
   "cell_type": "code",
   "execution_count": null,
   "metadata": {},
   "outputs": [],
   "source": []
  }
 ],
 "metadata": {
  "kernelspec": {
   "display_name": "Python 3",
   "language": "python",
   "name": "python3"
  },
  "language_info": {
   "codemirror_mode": {
    "name": "ipython",
    "version": 3
   },
   "file_extension": ".py",
   "mimetype": "text/x-python",
   "name": "python",
   "nbconvert_exporter": "python",
   "pygments_lexer": "ipython3",
   "version": "3.6.2"
  }
 },
 "nbformat": 4,
 "nbformat_minor": 2
}
